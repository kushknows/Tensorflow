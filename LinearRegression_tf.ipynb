{
  "nbformat": 4,
  "nbformat_minor": 0,
  "metadata": {
    "colab": {
      "name": "LinearRegression_tf",
      "provenance": [],
      "authorship_tag": "ABX9TyOs7m9wYXmgWAz0UaHOBOgZ",
      "include_colab_link": true
    },
    "kernelspec": {
      "name": "python3",
      "display_name": "Python 3"
    }
  },
  "cells": [
    {
      "cell_type": "markdown",
      "metadata": {
        "id": "view-in-github",
        "colab_type": "text"
      },
      "source": [
        "<a href=\"https://colab.research.google.com/github/kushknows/Tensorflow/blob/master/LinearRegression_tf.ipynb\" target=\"_parent\"><img src=\"https://colab.research.google.com/assets/colab-badge.svg\" alt=\"Open In Colab\"/></a>"
      ]
    },
    {
      "cell_type": "code",
      "metadata": {
        "id": "8T9jLQVY00XI",
        "colab_type": "code",
        "colab": {}
      },
      "source": [
        "import tensorflow as tf\n",
        "import pandas as pd\n",
        "tf.compat.v1.disable_eager_execution() "
      ],
      "execution_count": 0,
      "outputs": []
    },
    {
      "cell_type": "code",
      "metadata": {
        "id": "QWk18V0t1A0m",
        "colab_type": "code",
        "colab": {}
      },
      "source": [
        "data = pd.read_csv(r'Linear.csv')"
      ],
      "execution_count": 0,
      "outputs": []
    },
    {
      "cell_type": "code",
      "metadata": {
        "id": "np1FgtXI1WlC",
        "colab_type": "code",
        "colab": {}
      },
      "source": [
        "x = [[1.47],[1.50],[1.52],[1.55],[1.57],[1.60],[1.62],[1.65],[1.68],[1.70],[1.73],[1.75],[1.78],[1.80],[1.83]]\n",
        "y = [[52.21],[53.12],[54.48],[55.84],[57.20],[58.57],[59.93],[61.29],[63.11],[64.47],[66.28],[68.10],[69.92],[72.19],[74.46]]"
      ],
      "execution_count": 0,
      "outputs": []
    },
    {
      "cell_type": "code",
      "metadata": {
        "id": "ISwbtB3R11Xi",
        "colab_type": "code",
        "colab": {}
      },
      "source": [
        "learning_rate = 0.01\n",
        "iterations = 1000"
      ],
      "execution_count": 0,
      "outputs": []
    },
    {
      "cell_type": "code",
      "metadata": {
        "id": "nhTdV0I019b5",
        "colab_type": "code",
        "colab": {}
      },
      "source": [
        "n = len(x[0]) # No. of Features "
      ],
      "execution_count": 0,
      "outputs": []
    },
    {
      "cell_type": "code",
      "metadata": {
        "id": "D24B3YYM2hLR",
        "colab_type": "code",
        "colab": {}
      },
      "source": [
        "weight_vector = tf.compat.v1.Variable(tf.random.normal(shape=[n,1]))\n",
        "constant_term = tf.compat.v1.Variable(tf.random.normal(shape = [1,1]))"
      ],
      "execution_count": 0,
      "outputs": []
    },
    {
      "cell_type": "code",
      "metadata": {
        "id": "-G5mzyFA4EUd",
        "colab_type": "code",
        "colab": {}
      },
      "source": [
        "sess = tf.compat.v1.Session()"
      ],
      "execution_count": 0,
      "outputs": []
    },
    {
      "cell_type": "code",
      "metadata": {
        "id": "G9hWrN8m40cN",
        "colab_type": "code",
        "colab": {}
      },
      "source": [
        "sess.run(tf.compat.v1.global_variables_initializer())"
      ],
      "execution_count": 0,
      "outputs": []
    },
    {
      "cell_type": "code",
      "metadata": {
        "id": "zdfsgaiV4_S4",
        "colab_type": "code",
        "colab": {}
      },
      "source": [
        "input_data = tf.compat.v1.placeholder(dtype =tf.float32 , shape=[None,n] )\n",
        "output_data = tf.compat.v1.placeholder(dtype = tf.float32, shape=[None,1])"
      ],
      "execution_count": 0,
      "outputs": []
    },
    {
      "cell_type": "code",
      "metadata": {
        "id": "obNPI-yz5fUt",
        "colab_type": "code",
        "colab": {}
      },
      "source": [
        "output = tf.matmul(input_data, weight_vector) + constant_term  # hyp = w.x + b"
      ],
      "execution_count": 0,
      "outputs": []
    },
    {
      "cell_type": "code",
      "metadata": {
        "id": "Dz5JPWoP5uRP",
        "colab_type": "code",
        "colab": {}
      },
      "source": [
        "mean_squared_error = tf.reduce_sum(tf.pow(output -output_data,2 ))"
      ],
      "execution_count": 0,
      "outputs": []
    },
    {
      "cell_type": "code",
      "metadata": {
        "id": "vR-0QzaO6hho",
        "colab_type": "code",
        "colab": {}
      },
      "source": [
        "optimizer = tf.compat.v1.train.GradientDescentOptimizer(learning_rate)"
      ],
      "execution_count": 0,
      "outputs": []
    },
    {
      "cell_type": "code",
      "metadata": {
        "id": "Gz8kRNbH7bVC",
        "colab_type": "code",
        "colab": {}
      },
      "source": [
        "goal = optimizer.minimize(mean_squared_error)"
      ],
      "execution_count": 0,
      "outputs": []
    },
    {
      "cell_type": "code",
      "metadata": {
        "id": "rltSohwb75b1",
        "colab_type": "code",
        "colab": {}
      },
      "source": [
        "X_train = x\n",
        "y_train = y"
      ],
      "execution_count": 0,
      "outputs": []
    },
    {
      "cell_type": "code",
      "metadata": {
        "id": "qa5VJqwR92Yu",
        "colab_type": "code",
        "colab": {}
      },
      "source": [
        "\n",
        "y_train = tf.convert_to_tensor(y_train)\n",
        "import numpy as np\n",
        "yt = sess.run(y_train)"
      ],
      "execution_count": 0,
      "outputs": []
    },
    {
      "cell_type": "code",
      "metadata": {
        "id": "fEHw-V2HN9G-",
        "colab_type": "code",
        "colab": {}
      },
      "source": [
        "ytt = yt.reshape(300,1)"
      ],
      "execution_count": 0,
      "outputs": []
    },
    {
      "cell_type": "code",
      "metadata": {
        "id": "mAJNe_O57_Nc",
        "colab_type": "code",
        "colab": {}
      },
      "source": [
        "for epoch in range(iterations):\n",
        "  sess.run(goal, feed_dict={\n",
        "      input_data: X_train,\n",
        "      output_data: y_train\n",
        "  })"
      ],
      "execution_count": 0,
      "outputs": []
    },
    {
      "cell_type": "code",
      "metadata": {
        "id": "v0UGk6kG9WcC",
        "colab_type": "code",
        "colab": {}
      },
      "source": [
        "predictions = sess.run(output, feed_dict={\n",
        "    input_data : X_train,\n",
        "    output_data : y_train\n",
        "})"
      ],
      "execution_count": 0,
      "outputs": []
    },
    {
      "cell_type": "code",
      "metadata": {
        "id": "bv2cHMerYnxQ",
        "colab_type": "code",
        "colab": {
          "base_uri": "https://localhost:8080/",
          "height": 34
        },
        "outputId": "cb37158a-515e-4d70-dcaf-ad7e99e89cb5"
      },
      "source": [
        "correlation_coef = np.corrcoef(\n",
        "    [prediction[0] for prediction in predictions ], [yy[0] for yy in y])[0,1]\n",
        "print(correlation_coef)"
      ],
      "execution_count": 171,
      "outputs": [
        {
          "output_type": "stream",
          "text": [
            "0.9951133469700065\n"
          ],
          "name": "stdout"
        }
      ]
    },
    {
      "cell_type": "code",
      "metadata": {
        "id": "JWm_tqdmZuEJ",
        "colab_type": "code",
        "colab": {}
      },
      "source": [
        ""
      ],
      "execution_count": 0,
      "outputs": []
    }
  ]
}