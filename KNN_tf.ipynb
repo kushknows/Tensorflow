{
  "nbformat": 4,
  "nbformat_minor": 0,
  "metadata": {
    "colab": {
      "name": "KNN.ipynb",
      "provenance": [],
      "collapsed_sections": [],
      "authorship_tag": "ABX9TyOsI3waB55BF8111ZaBPVPG",
      "include_colab_link": true
    },
    "kernelspec": {
      "name": "python3",
      "display_name": "Python 3"
    }
  },
  "cells": [
    {
      "cell_type": "markdown",
      "metadata": {
        "id": "view-in-github",
        "colab_type": "text"
      },
      "source": [
        "<a href=\"https://colab.research.google.com/github/kushknows/Tensorflow/blob/master/KNN_tf.ipynb\" target=\"_parent\"><img src=\"https://colab.research.google.com/assets/colab-badge.svg\" alt=\"Open In Colab\"/></a>"
      ]
    },
    {
      "cell_type": "code",
      "metadata": {
        "id": "kGotis8qFvG5",
        "colab_type": "code",
        "colab": {}
      },
      "source": [
        "import tensorflow as tf\n",
        "from sklearn import datasets\n",
        "import numpy as np\n",
        "import random\n",
        "tf.compat.v1.disable_eager_execution()"
      ],
      "execution_count": 0,
      "outputs": []
    },
    {
      "cell_type": "code",
      "metadata": {
        "id": "yyTNXv3xF6rN",
        "colab_type": "code",
        "colab": {}
      },
      "source": [
        "iris = datasets.load_iris()"
      ],
      "execution_count": 0,
      "outputs": []
    },
    {
      "cell_type": "code",
      "metadata": {
        "id": "M0FlJuI6GF9l",
        "colab_type": "code",
        "colab": {}
      },
      "source": [
        "X = iris.data \n",
        "y = iris.target\n",
        "y = list(y)"
      ],
      "execution_count": 0,
      "outputs": []
    },
    {
      "cell_type": "code",
      "metadata": {
        "id": "K5jtDTlYGM4k",
        "colab_type": "code",
        "colab": {}
      },
      "source": [
        "a = list(range(len(X)))\n",
        "random.shuffle(a)                # Shuffling data"
      ],
      "execution_count": 0,
      "outputs": []
    },
    {
      "cell_type": "code",
      "metadata": {
        "id": "NBMHuqdBGoJR",
        "colab_type": "code",
        "colab": {}
      },
      "source": [
        "X_train = []\n",
        "y_train = list()\n",
        "X_test = []\n",
        "y_test = list()"
      ],
      "execution_count": 0,
      "outputs": []
    },
    {
      "cell_type": "code",
      "metadata": {
        "id": "iKP7BldYXAva",
        "colab_type": "code",
        "colab": {}
      },
      "source": [
        "partition = int(0.8 * len(a))"
      ],
      "execution_count": 0,
      "outputs": []
    },
    {
      "cell_type": "code",
      "metadata": {
        "id": "AAWVM9OrXc31",
        "colab_type": "code",
        "colab": {}
      },
      "source": [
        "train_indices = a[: partition]  # Spliting dataset into training and testing set\n",
        "test_indices = a[partition :]"
      ],
      "execution_count": 0,
      "outputs": []
    },
    {
      "cell_type": "code",
      "metadata": {
        "id": "2wq_hG80Xoop",
        "colab_type": "code",
        "colab": {}
      },
      "source": [
        "for i in train_indices:\n",
        "  X_train.append(X[i])\n",
        "  y_train.append(y[i])"
      ],
      "execution_count": 0,
      "outputs": []
    },
    {
      "cell_type": "code",
      "metadata": {
        "id": "g_mBDRxDY9Vb",
        "colab_type": "code",
        "colab": {}
      },
      "source": [
        "for i in test_indices:\n",
        "  X_test.append(X[i])\n",
        "  y_test.append(y[i])\n"
      ],
      "execution_count": 0,
      "outputs": []
    },
    {
      "cell_type": "code",
      "metadata": {
        "id": "XGbZsYRhZNM8",
        "colab_type": "code",
        "colab": {}
      },
      "source": [
        "def min_max_normalized(data):\n",
        "  col_max = np.max(data, axis=0)\n",
        "  col_min = np.min(data, axis=0)\n",
        "  return np.divide(data - col_min, col_max - col_min )"
      ],
      "execution_count": 0,
      "outputs": []
    },
    {
      "cell_type": "code",
      "metadata": {
        "id": "4tpKaPvOczM0",
        "colab_type": "code",
        "colab": {}
      },
      "source": [
        "X_train = min_max_normalized(X_train)\n",
        "X_test = min_max_normalized(X_test)"
      ],
      "execution_count": 0,
      "outputs": []
    },
    {
      "cell_type": "code",
      "metadata": {
        "id": "o9oLeVfmdk1W",
        "colab_type": "code",
        "colab": {}
      },
      "source": [
        "sess = tf.compat.v1.Session()"
      ],
      "execution_count": 0,
      "outputs": []
    },
    {
      "cell_type": "code",
      "metadata": {
        "id": "zyCvJWxYflXu",
        "colab_type": "code",
        "colab": {}
      },
      "source": [
        "sess.run(tf.compat.v1.global_variables_initializer())"
      ],
      "execution_count": 0,
      "outputs": []
    },
    {
      "cell_type": "code",
      "metadata": {
        "id": "SAhsjKW4igk9",
        "colab_type": "code",
        "colab": {}
      },
      "source": [
        "input_data = tf.compat.v1.placeholder(dtype=tf.float32, shape= [None, len(X[0])])\n",
        "output_data = tf.compat.v1.placeholder(dtype = tf.float32, shape= [None, 1])\n",
        "test_input_datapoint = tf.compat.v1.placeholder(dtype=tf.float32, shape= [len(X[0])])"
      ],
      "execution_count": 0,
      "outputs": []
    },
    {
      "cell_type": "code",
      "metadata": {
        "id": "vetSsewEjeXK",
        "colab_type": "code",
        "colab": {}
      },
      "source": [
        "k = 3"
      ],
      "execution_count": 0,
      "outputs": []
    },
    {
      "cell_type": "code",
      "metadata": {
        "id": "dDcGYfbwjrQB",
        "colab_type": "code",
        "colab": {}
      },
      "source": [
        "#Calculate nearest distance btw test data pt and training data pt\n",
        "distance = tf.negative(tf.reduce_sum(\n",
        "    tf.abs(tf.subtract(input_data, test_input_datapoint)), axis = 1))\n",
        "values, indices = tf.compat.v1.nn.top_k(distance, k= k, sorted= False)"
      ],
      "execution_count": 0,
      "outputs": []
    },
    {
      "cell_type": "code",
      "metadata": {
        "id": "EFJR6_V2lAav",
        "colab_type": "code",
        "colab": {}
      },
      "source": [
        "# top kth neighbours list\n",
        "neighbours_list = []\n",
        "for i in range(k):\n",
        "  neighbours_list.append(output_data[indices[i]])"
      ],
      "execution_count": 0,
      "outputs": []
    },
    {
      "cell_type": "code",
      "metadata": {
        "id": "57AXbVzrmL5L",
        "colab_type": "code",
        "colab": {}
      },
      "source": [
        "nearest_neighbors = neighbours_list"
      ],
      "execution_count": 0,
      "outputs": []
    },
    {
      "cell_type": "code",
      "metadata": {
        "id": "jxGMySjZmW8P",
        "colab_type": "code",
        "colab": {}
      },
      "source": [
        "cnt = 0"
      ],
      "execution_count": 0,
      "outputs": []
    },
    {
      "cell_type": "code",
      "metadata": {
        "id": "qbzROmuymezP",
        "colab_type": "code",
        "colab": {
          "base_uri": "https://localhost:8080/",
          "height": 34
        },
        "outputId": "5f85265a-7af9-4661-bda4-37870876b8d7"
      },
      "source": [
        "for i in range(X_test.shape[0]):\n",
        "  fd = {\n",
        "      input_data : X_train,\n",
        "      output_data : np.matrix(y_train).T,\n",
        "      test_input_datapoint : X_test[i]\n",
        "  }\n",
        "  neighbours = sess.run(nearest_neighbors, feed_dict = fd)\n",
        "  neighbor_dict = dict()\n",
        "  for neighbor in neighbours :\n",
        "    if neighbor[0] in neighbor_dict:\n",
        "      neighbor_dict[neighbor[0]] += 1 # No. of times particular neighbor is occuring\n",
        "    else:\n",
        "      neighbor_dict[neighbor[0]] = 1  # this loop is used to identify the neighbors\n",
        "\n",
        "  best_neighbor =None \n",
        "  best_neighbor_count = 0\n",
        "  for neighbor in neighbor_dict:\n",
        "    if neighbor_dict[neighbor] > best_neighbor_count:\n",
        "      best_neighbor = neighbor\n",
        "      best_neighbor_count = neighbor_dict[neighbor]   # this loop is used to find the class\n",
        "  best_neighbor = int(best_neighbor)\n",
        "  if best_neighbor == y_test[i]:\n",
        "    cnt += 1  \n",
        "print(100*cnt/len(y_test))"
      ],
      "execution_count": 69,
      "outputs": [
        {
          "output_type": "stream",
          "text": [
            "96.66666666666667\n"
          ],
          "name": "stdout"
        }
      ]
    },
    {
      "cell_type": "code",
      "metadata": {
        "id": "MnhsBpyXpj0_",
        "colab_type": "code",
        "colab": {
          "base_uri": "https://localhost:8080/",
          "height": 34
        },
        "outputId": "417e1a79-c8c7-47d1-99e1-bb352bd0ad04"
      },
      "source": [
        "neighbor_dict"
      ],
      "execution_count": 81,
      "outputs": [
        {
          "output_type": "execute_result",
          "data": {
            "text/plain": [
              "{0.0: 3}"
            ]
          },
          "metadata": {
            "tags": []
          },
          "execution_count": 81
        }
      ]
    },
    {
      "cell_type": "code",
      "metadata": {
        "id": "eHKpGmlm08_D",
        "colab_type": "code",
        "colab": {}
      },
      "source": [
        ""
      ],
      "execution_count": 0,
      "outputs": []
    }
  ]
}