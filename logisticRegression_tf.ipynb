{
  "nbformat": 4,
  "nbformat_minor": 0,
  "metadata": {
    "colab": {
      "name": "logisticRegression_tf.ipynb",
      "provenance": [],
      "authorship_tag": "ABX9TyPYcTQboKjGVyiW+kvd61n4",
      "include_colab_link": true
    },
    "kernelspec": {
      "name": "python3",
      "display_name": "Python 3"
    }
  },
  "cells": [
    {
      "cell_type": "markdown",
      "metadata": {
        "id": "view-in-github",
        "colab_type": "text"
      },
      "source": [
        "<a href=\"https://colab.research.google.com/github/kushknows/Tensorflow/blob/master/logisticRegression_tf.ipynb\" target=\"_parent\"><img src=\"https://colab.research.google.com/assets/colab-badge.svg\" alt=\"Open In Colab\"/></a>"
      ]
    },
    {
      "cell_type": "code",
      "metadata": {
        "id": "mX1RM5TskQ3V",
        "colab_type": "code",
        "colab": {}
      },
      "source": [
        "from sklearn import datasets\n",
        "import numpy as np\n",
        "import tensorflow as tf\n",
        "tf.compat.v1.disable_eager_execution()\n",
        "import random"
      ],
      "execution_count": 0,
      "outputs": []
    },
    {
      "cell_type": "code",
      "metadata": {
        "id": "0C__QHWKnVA7",
        "colab_type": "code",
        "colab": {}
      },
      "source": [
        "iris = datasets.load_iris()"
      ],
      "execution_count": 0,
      "outputs": []
    },
    {
      "cell_type": "code",
      "metadata": {
        "id": "O1M-MoqUnjqN",
        "colab_type": "code",
        "colab": {}
      },
      "source": [
        "learning_rate = 0.1\n",
        "batch_size = 120\n",
        "iterations = 1000\n"
      ],
      "execution_count": 0,
      "outputs": []
    },
    {
      "cell_type": "code",
      "metadata": {
        "id": "r7z09aiRnp9O",
        "colab_type": "code",
        "colab": {}
      },
      "source": [
        "X = iris.data\n",
        "y = iris.target\n"
      ],
      "execution_count": 0,
      "outputs": []
    },
    {
      "cell_type": "code",
      "metadata": {
        "id": "gOO-dNK-s4-x",
        "colab_type": "code",
        "colab": {
          "base_uri": "https://localhost:8080/",
          "height": 34
        },
        "outputId": "cd40e188-80c5-48e9-f0ab-e95dca95eab1"
      },
      "source": [
        "len(train_indices)"
      ],
      "execution_count": 63,
      "outputs": [
        {
          "output_type": "execute_result",
          "data": {
            "text/plain": [
              "120"
            ]
          },
          "metadata": {
            "tags": []
          },
          "execution_count": 63
        }
      ]
    },
    {
      "cell_type": "code",
      "metadata": {
        "id": "6nvOkIUKoFRt",
        "colab_type": "code",
        "colab": {}
      },
      "source": [
        "a = list(range(len(X)))\n",
        "random.shuffle(a)"
      ],
      "execution_count": 0,
      "outputs": []
    },
    {
      "cell_type": "code",
      "metadata": {
        "id": "jOVHnM9PoXGq",
        "colab_type": "code",
        "colab": {}
      },
      "source": [
        "X_traine = []\n",
        "y_traine = []\n",
        "X_test = []\n",
        "y_test = []\n"
      ],
      "execution_count": 0,
      "outputs": []
    },
    {
      "cell_type": "code",
      "metadata": {
        "id": "q5BJZzp8o7ab",
        "colab_type": "code",
        "colab": {}
      },
      "source": [
        "partition = int(0.8 * len(a))"
      ],
      "execution_count": 0,
      "outputs": []
    },
    {
      "cell_type": "code",
      "metadata": {
        "id": "tp-ZPrAMpFAX",
        "colab_type": "code",
        "colab": {}
      },
      "source": [
        "train_indices = a[: partition]\n",
        "test_indices = a[partition : ]"
      ],
      "execution_count": 0,
      "outputs": []
    },
    {
      "cell_type": "code",
      "metadata": {
        "id": "mRtW_tANpgB2",
        "colab_type": "code",
        "colab": {}
      },
      "source": [
        "for i in train_indices:\n",
        "  X_traine.append(X[i])\n",
        "  val = [0,0,0]\n",
        "  val[y[i]]=1\n",
        "  y_traine.append(val)"
      ],
      "execution_count": 0,
      "outputs": []
    },
    {
      "cell_type": "code",
      "metadata": {
        "id": "M9WPDSXbtQjt",
        "colab_type": "code",
        "colab": {
          "base_uri": "https://localhost:8080/",
          "height": 34
        },
        "outputId": "ac19819a-78b6-4766-ed2a-3396cb610bc7"
      },
      "source": [
        "len(X_train)"
      ],
      "execution_count": 59,
      "outputs": [
        {
          "output_type": "execute_result",
          "data": {
            "text/plain": [
              "240"
            ]
          },
          "metadata": {
            "tags": []
          },
          "execution_count": 59
        }
      ]
    },
    {
      "cell_type": "code",
      "metadata": {
        "id": "_GL8tGRMp6Z0",
        "colab_type": "code",
        "colab": {}
      },
      "source": [
        "for i in test_indices:\n",
        "  X_test.append(X[i])\n",
        "  val = [0,0,0]\n",
        "  val[y[i]] = 1\n",
        "  y_test.append(val)"
      ],
      "execution_count": 0,
      "outputs": []
    },
    {
      "cell_type": "code",
      "metadata": {
        "id": "yEsVwXYz2b8h",
        "colab_type": "code",
        "colab": {}
      },
      "source": [
        "n = len(X_train[0])\n",
        "k = len(y_train[0])"
      ],
      "execution_count": 0,
      "outputs": []
    },
    {
      "cell_type": "code",
      "metadata": {
        "id": "avpzo6oT2nEF",
        "colab_type": "code",
        "colab": {
          "base_uri": "https://localhost:8080/",
          "height": 88
        },
        "outputId": "d73ec5ba-6770-4e84-e360-bb784bd2aea5"
      },
      "source": [
        "weight_vector = tf.compat.v1.Variable(tf.random.normal(shape = [n,k]))\n",
        "const_term = tf.compat.v1.Variable(tf.random.normal(shape = [1,k]))"
      ],
      "execution_count": 36,
      "outputs": [
        {
          "output_type": "stream",
          "text": [
            "WARNING:tensorflow:From /usr/local/lib/python3.6/dist-packages/tensorflow/python/ops/resource_variable_ops.py:1666: calling BaseResourceVariable.__init__ (from tensorflow.python.ops.resource_variable_ops) with constraint is deprecated and will be removed in a future version.\n",
            "Instructions for updating:\n",
            "If using Keras pass *_constraint arguments to layers.\n"
          ],
          "name": "stdout"
        }
      ]
    },
    {
      "cell_type": "code",
      "metadata": {
        "id": "BRPTV5SC3hK0",
        "colab_type": "code",
        "colab": {}
      },
      "source": [
        "sess = tf.compat.v1.Session()\n",
        "sess.run(tf.compat.v1.global_variables_initializer())"
      ],
      "execution_count": 0,
      "outputs": []
    },
    {
      "cell_type": "markdown",
      "metadata": {
        "id": "5BEkR07U8sV_",
        "colab_type": "text"
      },
      "source": [
        " A placeholder is simply a variable that we will assign data to at a later date. It allows us to create our operations and build our computation graph, without needing the data. In TensorFlowterminology, we then feed data into the graph through these placeholders.\n",
        " "
      ]
    },
    {
      "cell_type": "code",
      "metadata": {
        "id": "N7bEO7NM8uYt",
        "colab_type": "code",
        "colab": {}
      },
      "source": [
        "input_data = tf.compat.v1.placeholder(dtype=tf.float32, shape = [None, n])\n",
        "output_data = tf.compat.v1.placeholder(dtype=tf.float32, shape=[None, k])"
      ],
      "execution_count": 0,
      "outputs": []
    },
    {
      "cell_type": "code",
      "metadata": {
        "id": "C7hAAARJ9w_u",
        "colab_type": "code",
        "colab": {}
      },
      "source": [
        "output = tf.matmul(input_data, weight_vector) + const_term  "
      ],
      "execution_count": 0,
      "outputs": []
    },
    {
      "cell_type": "code",
      "metadata": {
        "id": "qcBv2XF9-Egf",
        "colab_type": "code",
        "colab": {}
      },
      "source": [
        "loss_value = tf.reduce_mean(tf.nn.sigmoid_cross_entropy_with_logits(\n",
        "    logits = output,\n",
        "    labels =output_data \n",
        "))"
      ],
      "execution_count": 0,
      "outputs": []
    },
    {
      "cell_type": "code",
      "metadata": {
        "id": "1yLB2g-iA8Fb",
        "colab_type": "code",
        "colab": {}
      },
      "source": [
        "optimizer = tf.compat.v1.train.GradientDescentOptimizer(learning_rate)\n",
        "goal = optimizer.minimize(loss_value)"
      ],
      "execution_count": 0,
      "outputs": []
    },
    {
      "cell_type": "code",
      "metadata": {
        "id": "b0RlZBDABNx7",
        "colab_type": "code",
        "colab": {}
      },
      "source": [
        "prediction = tf.argmax(output) #Highest Value will be picked from tensor"
      ],
      "execution_count": 0,
      "outputs": []
    },
    {
      "cell_type": "code",
      "metadata": {
        "id": "OD42hYp9B1ix",
        "colab_type": "code",
        "colab": {}
      },
      "source": [
        "correct_pred = tf.cast(tf.equal(prediction, tf.argmax(output_data)),   \n",
        "                       dtype = tf.float32)"
      ],
      "execution_count": 0,
      "outputs": []
    },
    {
      "cell_type": "code",
      "metadata": {
        "id": "zNOTwp1EsSGw",
        "colab_type": "code",
        "colab": {
          "base_uri": "https://localhost:8080/",
          "height": 34
        },
        "outputId": "450e02c6-4a72-4fed-f486-92b14c1000d6"
      },
      "source": [
        "len(y_train)"
      ],
      "execution_count": 54,
      "outputs": [
        {
          "output_type": "execute_result",
          "data": {
            "text/plain": [
              "270"
            ]
          },
          "metadata": {
            "tags": []
          },
          "execution_count": 54
        }
      ]
    },
    {
      "cell_type": "code",
      "metadata": {
        "id": "2qtd4fazPs8h",
        "colab_type": "code",
        "colab": {
          "base_uri": "https://localhost:8080/",
          "height": 34
        },
        "outputId": "6fbd4299-2ee7-407f-af01-5544b61a913e"
      },
      "source": [
        "for epoch in range(iterations):\n",
        "  sess.run(goal, feed_dict= {\n",
        "      input_data :X_traine,\n",
        "      output_data: y_traine\n",
        "  })\n",
        "  if epoch % 1000 == 0:\n",
        "    print(epoch/1000)\n",
        "    cnt =0\n",
        "    for i in range(len(X_test)):\n",
        "      if np.argmax(y_test[i]) == np.argmax(np.array([X_test[i]]).dot(np.array(sess.run(weight_vector)) + np.array(sess.run(const_term)))):\n",
        "        cnt +=1 \n",
        "        print('Accurate: ', cnt)\n",
        "correct  = 0\n",
        "for i in range(len(X_test)):\n",
        "  if np.argmax(y_test[i])== np.argmax(np.array([X_test[i]]).dot(np.array(sess.run(weight_vector)) + np.array(sess.run(const_term)))):\n",
        "    correct +=1\n",
        "\n",
        "\n"
      ],
      "execution_count": 68,
      "outputs": [
        {
          "output_type": "stream",
          "text": [
            "0.0\n"
          ],
          "name": "stdout"
        }
      ]
    },
    {
      "cell_type": "code",
      "metadata": {
        "id": "aeH5LsIfp4bp",
        "colab_type": "code",
        "colab": {}
      },
      "source": [
        ""
      ],
      "execution_count": 0,
      "outputs": []
    }
  ]
}